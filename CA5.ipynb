{
 "cells": [
  {
   "cell_type": "markdown",
   "metadata": {},
   "source": [
    "# Classification Avancée\n",
    "## projet : Deep Learning\n",
    "\n",
    "Au cas où, il nous faut d'abord installer les modules nécessaires et télécharger les données :"
   ]
  },
  {
   "cell_type": "code",
   "execution_count": 1,
   "metadata": {
    "scrolled": true
   },
   "outputs": [
    {
     "name": "stdout",
     "output_type": "stream",
     "text": [
      "Requirement already satisfied: tensorflow in /home/remi/.local/lib/python3.6/site-packages (1.12.0)\n",
      "Requirement already satisfied: astor>=0.6.0 in /home/remi/.local/lib/python3.6/site-packages (from tensorflow) (0.7.1)\n",
      "Requirement already satisfied: six>=1.10.0 in /home/remi/.local/lib/python3.6/site-packages (from tensorflow) (1.11.0)\n",
      "Requirement already satisfied: termcolor>=1.1.0 in /home/remi/.local/lib/python3.6/site-packages (from tensorflow) (1.1.0)\n",
      "Requirement already satisfied: numpy>=1.13.3 in /home/remi/.local/lib/python3.6/site-packages (from tensorflow) (1.14.5)\n",
      "Requirement already satisfied: tensorboard<1.13.0,>=1.12.0 in /home/remi/.local/lib/python3.6/site-packages (from tensorflow) (1.12.0)\n",
      "Requirement already satisfied: wheel>=0.26 in /usr/lib/python3/dist-packages (from tensorflow) (0.30.0)\n",
      "Requirement already satisfied: gast>=0.2.0 in /home/remi/.local/lib/python3.6/site-packages (from tensorflow) (0.2.0)\n",
      "Requirement already satisfied: absl-py>=0.1.6 in /home/remi/.local/lib/python3.6/site-packages (from tensorflow) (0.6.1)\n",
      "Requirement already satisfied: keras-preprocessing>=1.0.5 in /home/remi/.local/lib/python3.6/site-packages (from tensorflow) (1.0.5)\n",
      "Requirement already satisfied: keras-applications>=1.0.6 in /home/remi/.local/lib/python3.6/site-packages (from tensorflow) (1.0.6)\n",
      "Requirement already satisfied: grpcio>=1.8.6 in /home/remi/.local/lib/python3.6/site-packages (from tensorflow) (1.17.0)\n",
      "Requirement already satisfied: protobuf>=3.6.1 in /home/remi/.local/lib/python3.6/site-packages (from tensorflow) (3.6.1)\n",
      "Requirement already satisfied: markdown>=2.6.8 in /home/remi/.local/lib/python3.6/site-packages (from tensorboard<1.13.0,>=1.12.0->tensorflow) (3.0.1)\n",
      "Requirement already satisfied: werkzeug>=0.11.10 in /home/remi/.local/lib/python3.6/site-packages (from tensorboard<1.13.0,>=1.12.0->tensorflow) (0.14.1)\n",
      "Requirement already satisfied: h5py in /home/remi/.local/lib/python3.6/site-packages (from keras-applications>=1.0.6->tensorflow) (2.8.0)\n",
      "Requirement already satisfied: setuptools in /home/remi/.local/lib/python3.6/site-packages (from protobuf>=3.6.1->tensorflow) (40.0.0)\n",
      "\u001b[33mYou are using pip version 18.0, however version 18.1 is available.\n",
      "You should consider upgrading via the 'pip install --upgrade pip' command.\u001b[0m\n"
     ]
    }
   ],
   "source": [
    "# Obligatoire :\n",
    "#!pip3 install keras --user\n",
    "!pip3 install tensorflow --user\n",
    "# Sur votre machine (normalement déjà installé dans les salles machines)\n",
    "#!pip3 install tensorflow-gpu\n",
    "#!pip3 install tensorflow"
   ]
  },
  {
   "cell_type": "markdown",
   "metadata": {},
   "source": [
    "## De la documentation\n"
   ]
  },
  {
   "cell_type": "markdown",
   "metadata": {},
   "source": [
    "### Deep Learning avec Keras\n",
    "- Doc keras :https://keras.io/\n",
    "- Le model Sequential (premier pas) : https://keras.io/getting-started/sequential-model-guide/#getting-started-with-the-keras-sequential-model\n",
    "- Un framework plus riche : https://keras.io/getting-started/functional-api-guide/"
   ]
  },
  {
   "cell_type": "markdown",
   "metadata": {},
   "source": [
    "### Autres Toolkits et packages\n",
    "\n",
    "- Lasagne : Langage *de haut niveau* comme keras\n",
    "\n",
    "\n",
    "NB : Lasagne et Keras utilisent indifférement un backend parmi Theano (Univ. Montreal) et Tensorflow (Google)\n",
    "\n",
    "- Theano :  le package de l'Univ. de Montréal\n",
    "\n",
    "- Tensorflow :  le package Google\n",
    "\n",
    "- Caffe : très spécialisé images\n",
    "\n",
    "- Pytorch : la plateforme de Facebook\n",
    "\n",
    "- ...\n"
   ]
  },
  {
   "cell_type": "markdown",
   "metadata": {},
   "source": [
    "## Récupération d'un dataset existant\n",
    "On va travailler avec un jeux de données historique que vous conaissez déjà : MNIST. Ce sont des chiffres manuscrits, donc des images en niveaux de gris, en résolution 28x28"
   ]
  },
  {
   "cell_type": "code",
   "execution_count": 2,
   "metadata": {},
   "outputs": [
    {
     "name": "stderr",
     "output_type": "stream",
     "text": [
      "Using TensorFlow backend.\n"
     ]
    }
   ],
   "source": [
    "from keras.datasets import mnist\n",
    "from keras.utils import np_utils\n",
    "\n",
    "%matplotlib inline\n",
    "import matplotlib.pyplot as plt\n",
    "\n",
    "(X_train, y_train), (X_test, y_test) = mnist.load_data()"
   ]
  },
  {
   "cell_type": "code",
   "execution_count": 3,
   "metadata": {},
   "outputs": [
    {
     "name": "stdout",
     "output_type": "stream",
     "text": [
      "dimension des données :  (60000, 28, 28) (60000,)\n",
      "une données : \n",
      "[[  0   0   0   0   0   0   0   0   0   0   0   0   0   0   0   0   0   0\n",
      "    0   0   0   0   0   0   0   0   0   0]\n",
      " [  0   0   0   0   0   0   0   0   0   0   0   0   0   0   0   0   0   0\n",
      "    0   0   0   0   0   0   0   0   0   0]\n",
      " [  0   0   0   0   0   0   0   0   0   0   0   0   0   0   0   0   0   0\n",
      "    0   0   0   0   0   0   0   0   0   0]\n",
      " [  0   0   0   0   0   0   0   0   0   0   0   0   0   0   0   0   0   0\n",
      "    0   0   0   0   0   0   0   0   0   0]\n",
      " [  0   0   0   0   0   0   0   0   0   0   0   0   0   0   0   0   0   0\n",
      "    0   0   0   0   0   0   0   0   0   0]\n",
      " [  0   0   0   0   0   0   0   0   0   0   0   0   0   0   0   0   0   0\n",
      "    0   0   0   0   0   0   0   0   0   0]\n",
      " [  0   0   0   0   0   0   0   0 121 255 165   0   0   0   0   0   0  70\n",
      "  254 179   0   0   0   0   0   0   0   0]\n",
      " [  0   0   0   0   0   0   0   0 131 254 153   0   0   0   0   0   0 106\n",
      "  254 249  50   0   0   0   0   0   0   0]\n",
      " [  0   0   0   0   0   0   0   0 216 254 105   0   0   0   0   0   0 140\n",
      "  254 240  37   0   0   0   0   0   0   0]\n",
      " [  0   0   0   0   0   0   0  14 225 254  84   0   0   0   0   0  85 233\n",
      "  254 215   0   0   0   0   0   0   0   0]\n",
      " [  0   0   0   0   0   0   0  58 254 254  46   0   0   0   0   8 186 254\n",
      "  254 206   0   0   0   0   0   0   0   0]\n",
      " [  0   0   0   0   0   0   0  58 254 254   9   0   0   0   0 146 254 254\n",
      "  254 120   0   0   0   0   0   0   0   0]\n",
      " [  0   0   0   0   0   0   0 150 254 254   9   0   0   0 127 251 254 254\n",
      "  239  22   0   0   0   0   0   0   0   0]\n",
      " [  0   0   0   0   0   0   0 153 254 254   9   0   0  92 246 254 254 254\n",
      "  181   0   0   0   0   0   0   0   0   0]\n",
      " [  0   0   0   0   0   0   0 105 241 254  40   0  27 244 254 254 254 254\n",
      "  150   0   0   0   0   0   0   0   0   0]\n",
      " [  0   0   0   0   0   0   0   0 161 254 169 100 244 254 254 254 254 252\n",
      "   70   0   0   0   0   0   0   0   0   0]\n",
      " [  0   0   0   0   0   0   0   0  68 176 253 254 254 245 167 254 254 202\n",
      "    0   0   0   0   0   0   0   0   0   0]\n",
      " [  0   0   0   0   0   0   0   0   0   0  99 177 146  35 110 254 254 148\n",
      "    0   0   0   0   0   0   0   0   0   0]\n",
      " [  0   0   0   0   0   0   0   0   0   0   0   0   0   0 206 254 254 131\n",
      "    0   0   0   0   0   0   0   0   0   0]\n",
      " [  0   0   0   0   0   0   0   0   0   0   0   0   0   0 130 254 219  11\n",
      "    0   0   0   0   0   0   0   0   0   0]\n",
      " [  0   0   0   0   0   0   0   0   0   0   0   0   0   0 174 254 210   0\n",
      "    0   0   0   0   0   0   0   0   0   0]\n",
      " [  0   0   0   0   0   0   0   0   0   0   0   0   0   0 155 254 124   0\n",
      "    0   0   0   0   0   0   0   0   0   0]\n",
      " [  0   0   0   0   0   0   0   0   0   0   0   0   0   0 185 254 115   0\n",
      "    0   0   0   0   0   0   0   0   0   0]\n",
      " [  0   0   0   0   0   0   0   0   0   0   0   0   0   0 206 254 115   0\n",
      "    0   0   0   0   0   0   0   0   0   0]\n",
      " [  0   0   0   0   0   0   0   0   0   0   0   0   0   0 194 254 115   0\n",
      "    0   0   0   0   0   0   0   0   0   0]\n",
      " [  0   0   0   0   0   0   0   0   0   0   0   0   0   0  27 192 115   0\n",
      "    0   0   0   0   0   0   0   0   0   0]\n",
      " [  0   0   0   0   0   0   0   0   0   0   0   0   0   0   0   0   0   0\n",
      "    0   0   0   0   0   0   0   0   0   0]\n",
      " [  0   0   0   0   0   0   0   0   0   0   0   0   0   0   0   0   0   0\n",
      "    0   0   0   0   0   0   0   0   0   0]]\n",
      "Une données sous format plus lisible :\n"
     ]
    },
    {
     "data": {
      "image/png": "[encoded data removed]",
      "text/plain": [
       "<Figure size 432x288 with 1 Axes>"
      ]
     },
     "metadata": {},
     "output_type": "display_data"
    }
   ],
   "source": [
    "print(\"dimension des données : \", X_train.shape, y_train.shape)\n",
    "print(\"une données : \")\n",
    "print(X_test[42])\n",
    "\n",
    "print(\"Une données sous format plus lisible :\")\n",
    "plt.imshow(X_train[42], cmap=plt.get_cmap('gray'))\n",
    "plt.show()"
   ]
  },
  {
   "cell_type": "markdown",
   "metadata": {},
   "source": [
    "### Prétraitement\n",
    "Les données ne sont pas dans le format nécessaire à Keras : il vaut vectoriser chaque image. On va aussi les normaliser, pour n'avoir que des valeurs comprisent entre 0 et 1 (améliore la vitesse de convergence)"
   ]
  },
  {
   "cell_type": "code",
   "execution_count": 4,
   "metadata": {},
   "outputs": [],
   "source": [
    "X_train = X_train.astype('float32') / 255.\n",
    "X_test = X_test.astype('float32') / 255.\n",
    "\n",
    "import numpy as np\n",
    "X_train = X_train.reshape((len(X_train), np.prod(X_train.shape[1:])))\n",
    "X_test = X_test.reshape((len(X_test), np.prod(X_test.shape[1:])))"
   ]
  },
  {
   "cell_type": "code",
   "execution_count": 5,
   "metadata": {},
   "outputs": [
    {
     "name": "stdout",
     "output_type": "stream",
     "text": [
      "(60000, 784)\n",
      "(10000, 784)\n",
      "(60000,)\n",
      "Classe de la data num 42 : 7\n"
     ]
    }
   ],
   "source": [
    "print(X_train.shape)\n",
    "print(X_test.shape)\n",
    "\n",
    "print(y_train.shape)\n",
    "print(\"Classe de la data num 42 :\", y_train[42])"
   ]
  },
  {
   "cell_type": "code",
   "execution_count": 6,
   "metadata": {},
   "outputs": [],
   "source": [
    "# On transforme les sorties (numéros de classe) en des vecteurs de type one-hot-code\n",
    "nb_classes = 10\n",
    "\n",
    "Y_train = y_train\n",
    "Y_test = y_test\n",
    "y_train =  np_utils.to_categorical(y_train, nb_classes)\n",
    "y_test = np_utils.to_categorical(y_test, nb_classes)\n"
   ]
  },
  {
   "cell_type": "code",
   "execution_count": 7,
   "metadata": {},
   "outputs": [
    {
     "name": "stdout",
     "output_type": "stream",
     "text": [
      "(60000, 10)\n",
      "Classe de la data num 42 :  [0. 0. 0. 0. 0. 0. 0. 1. 0. 0.]\n"
     ]
    }
   ],
   "source": [
    "print(y_train.shape)\n",
    "print(\"Classe de la data num 42 : \", y_train[42])"
   ]
  },
  {
   "cell_type": "markdown",
   "metadata": {},
   "source": [
    "## Apprendre un réseau de neurones pour la classification de MNIST\n",
    "D'abord il faut créer le model.\n",
    "On ajoute les couches une à une. Ici un modèle qui \n",
    "- prend en entrée un vecteur de dimension 784 (une image Mnist 28x28 vectorisée)\n",
    "- transforme l'entrée en un vecteur de dimension 64 avec une couche totalement connectée (Dense), avec une fonction d'une activation de type Rectified Linear Unit \n",
    "- Transforme la sortie de la couche précédente (de dimension 64) en un vecteur de dimension 10 avec une autre couche dense \n",
    "- Transforme le vecteur de dimenbsion 10 en un autre vecteur de dimension 10 à l'aide d'une couche dense avec la fonction d'activation softmax"
   ]
  },
  {
   "cell_type": "code",
   "execution_count": 8,
   "metadata": {},
   "outputs": [],
   "source": [
    "# Import from Keras\n",
    "from keras.layers import Input, Dense\n",
    "from keras.models import Model, Sequential\n"
   ]
  },
  {
   "cell_type": "code",
   "execution_count": 9,
   "metadata": {},
   "outputs": [],
   "source": [
    "model = Sequential()\n",
    "model.add(Dense(64, input_dim=784, activation='relu'))\n",
    "model.add(Dense(10, activation='relu'))\n",
    "model.add(Dense(10, activation='softmax'))"
   ]
  },
  {
   "cell_type": "markdown",
   "metadata": {},
   "source": [
    "Puis il faut \"compiler\" le modèle, en précisant :\n",
    "- le critère d'optimisation : le *loss*\n",
    "- la routine d'optimisation (ie l'utilisation du gradient) : l'*optimizer*\n",
    "- les métriques additionnelles au *loss* (ici l'*accuracy*, le taux de bonne classification) que l'on va calculer à chaque fois"
   ]
  },
  {
   "cell_type": "code",
   "execution_count": 10,
   "metadata": {},
   "outputs": [],
   "source": [
    "model.compile(loss='categorical_crossentropy',\n",
    "              optimizer='adadelta',\n",
    "              metrics=['acc'])"
   ]
  },
  {
   "cell_type": "markdown",
   "metadata": {},
   "source": [
    "### Affichage de la structure du modèle\n",
    "\n",
    "Expliquee les différentes éléments de chacune des lignes affichées par la commande suivante."
   ]
  },
  {
   "cell_type": "code",
   "execution_count": 18,
   "metadata": {},
   "outputs": [
    {
     "name": "stdout",
     "output_type": "stream",
     "text": [
      "_________________________________________________________________\n",
      "Layer (type)                 Output Shape              Param #   \n",
      "=================================================================\n",
      "dense_1 (Dense)              (None, 64)                50240     \n",
      "_________________________________________________________________\n",
      "dense_2 (Dense)              (None, 10)                650       \n",
      "_________________________________________________________________\n",
      "dense_3 (Dense)              (None, 10)                110       \n",
      "=================================================================\n",
      "Total params: 51,000\n",
      "Trainable params: 51,000\n",
      "Non-trainable params: 0\n",
      "_________________________________________________________________\n"
     ]
    }
   ],
   "source": [
    "model.summary()"
   ]
  },
  {
   "cell_type": "markdown",
   "metadata": {},
   "source": [
    "Ou une manière plus graphique (nécessite l'installation de pydot et surtout graphviz, ce qui n'est pas forcément facile) :"
   ]
  },
  {
   "cell_type": "code",
   "execution_count": 11,
   "metadata": {},
   "outputs": [
    {
     "name": "stdout",
     "output_type": "stream",
     "text": [
      "Requirement already satisfied: pydot in /home/remi/.local/lib/python3.6/site-packages (1.4.0)\n",
      "Requirement already satisfied: pyparsing>=2.1.4 in /home/remi/.local/lib/python3.6/site-packages (from pydot) (2.2.0)\n",
      "\u001b[33mYou are using pip version 18.0, however version 18.1 is available.\n",
      "You should consider upgrading via the 'pip install --upgrade pip' command.\u001b[0m\n"
     ]
    }
   ],
   "source": [
    "!pip3 install pydot --user\n",
    "#!pip3 install graphviz --user\n",
    "#!sudo apt-get install graphviz"
   ]
  },
  {
   "cell_type": "code",
   "execution_count": 12,
   "metadata": {},
   "outputs": [
    {
     "data": {
      "image/svg+xml": [
       "<svg height=\"264pt\" viewBox=\"0.00 0.00 126.00 264.00\" width=\"126pt\" xmlns=\"http://www.w3.org/2000/svg\" xmlns:xlink=\"http://www.w3.org/1999/xlink\">\n",
       "<g class=\"graph\" id=\"graph0\" transform=\"scale(1 1) rotate(0) translate(4 260)\">\n",
       "<title>G</title>\n",
       "<polygon fill=\"#ffffff\" points=\"-4,4 -4,-260 122,-260 122,4 -4,4\" stroke=\"transparent\"/>\n",
       "<!-- 139867531680456 -->\n",
       "<g class=\"node\" id=\"node1\">\n",
       "<title>139867531680456</title>\n",
       "<polygon fill=\"none\" points=\"8,-146.5 8,-182.5 110,-182.5 110,-146.5 8,-146.5\" stroke=\"#000000\"/>\n",
       "<text fill=\"#000000\" font-family=\"Times,serif\" font-size=\"14.00\" text-anchor=\"middle\" x=\"59\" y=\"-160.8\">dense_1: Dense</text>\n",
       "</g>\n",
       "<!-- 139867587189280 -->\n",
       "<g class=\"node\" id=\"node2\">\n",
       "<title>139867587189280</title>\n",
       "<polygon fill=\"none\" points=\"8,-73.5 8,-109.5 110,-109.5 110,-73.5 8,-73.5\" stroke=\"#000000\"/>\n",
       "<text fill=\"#000000\" font-family=\"Times,serif\" font-size=\"14.00\" text-anchor=\"middle\" x=\"59\" y=\"-87.8\">dense_2: Dense</text>\n",
       "</g>\n",
       "<!-- 139867531680456&#45;&gt;139867587189280 -->\n",
       "<g class=\"edge\" id=\"edge2\">\n",
       "<title>139867531680456-&gt;139867587189280</title>\n",
       "<path d=\"M59,-146.4551C59,-138.3828 59,-128.6764 59,-119.6817\" fill=\"none\" stroke=\"#000000\"/>\n",
       "<polygon fill=\"#000000\" points=\"62.5001,-119.5903 59,-109.5904 55.5001,-119.5904 62.5001,-119.5903\" stroke=\"#000000\"/>\n",
       "</g>\n",
       "<!-- 139867531874824 -->\n",
       "<g class=\"node\" id=\"node3\">\n",
       "<title>139867531874824</title>\n",
       "<polygon fill=\"none\" points=\"8,-.5 8,-36.5 110,-36.5 110,-.5 8,-.5\" stroke=\"#000000\"/>\n",
       "<text fill=\"#000000\" font-family=\"Times,serif\" font-size=\"14.00\" text-anchor=\"middle\" x=\"59\" y=\"-14.8\">dense_3: Dense</text>\n",
       "</g>\n",
       "<!-- 139867587189280&#45;&gt;139867531874824 -->\n",
       "<g class=\"edge\" id=\"edge3\">\n",
       "<title>139867587189280-&gt;139867531874824</title>\n",
       "<path d=\"M59,-73.4551C59,-65.3828 59,-55.6764 59,-46.6817\" fill=\"none\" stroke=\"#000000\"/>\n",
       "<polygon fill=\"#000000\" points=\"62.5001,-46.5903 59,-36.5904 55.5001,-46.5904 62.5001,-46.5903\" stroke=\"#000000\"/>\n",
       "</g>\n",
       "<!-- 139867531680736 -->\n",
       "<g class=\"node\" id=\"node4\">\n",
       "<title>139867531680736</title>\n",
       "<polygon fill=\"none\" points=\"0,-219.5 0,-255.5 118,-255.5 118,-219.5 0,-219.5\" stroke=\"#000000\"/>\n",
       "<text fill=\"#000000\" font-family=\"Times,serif\" font-size=\"14.00\" text-anchor=\"middle\" x=\"59\" y=\"-233.8\">139867531680736</text>\n",
       "</g>\n",
       "<!-- 139867531680736&#45;&gt;139867531680456 -->\n",
       "<g class=\"edge\" id=\"edge1\">\n",
       "<title>139867531680736-&gt;139867531680456</title>\n",
       "<path d=\"M59,-219.4551C59,-211.3828 59,-201.6764 59,-192.6817\" fill=\"none\" stroke=\"#000000\"/>\n",
       "<polygon fill=\"#000000\" points=\"62.5001,-192.5903 59,-182.5904 55.5001,-192.5904 62.5001,-192.5903\" stroke=\"#000000\"/>\n",
       "</g>\n",
       "</g>\n",
       "</svg>"
      ],
      "text/plain": [
       "<IPython.core.display.SVG object>"
      ]
     },
     "execution_count": 12,
     "metadata": {},
     "output_type": "execute_result"
    }
   ],
   "source": [
    "import pydot\n",
    "from IPython.display import SVG\n",
    "from keras.utils.vis_utils import model_to_dot\n",
    "\n",
    "SVG(model_to_dot(model).create(prog='dot', format='svg'))"
   ]
  },
  {
   "cell_type": "markdown",
   "metadata": {},
   "source": [
    "### On peut maintenant apprendre le modèle en précisant \n",
    "- la base d'apprentissage (les deux premiers paramètres)\n",
    "- le nombre d'itérations d'apprentissage (*epochs*)\n",
    "- la taille des minibatchs (*batch_size*)\n",
    "- un ensemble de validation (soit on utilise comme ici un pourcentage des données d'entrée *X_train, y_train*, soit d'autres ensemble de données via *validation_data=(X_test, y_test)*)\n",
    "- le niveau de verbosité de l'affichage\n"
   ]
  },
  {
   "cell_type": "code",
   "execution_count": 13,
   "metadata": {},
   "outputs": [
    {
     "name": "stdout",
     "output_type": "stream",
     "text": [
      "Train on 40199 samples, validate on 19801 samples\n",
      "Epoch 1/3\n",
      "40199/40199 [==============================] - 5s 133us/step - loss: 0.3560 - acc: 0.8952 - val_loss: 0.2160 - val_acc: 0.9354\n",
      "Epoch 2/3\n",
      "40199/40199 [==============================] - 6s 155us/step - loss: 0.1763 - acc: 0.9485 - val_loss: 0.1672 - val_acc: 0.9515\n",
      "Epoch 3/3\n",
      "40199/40199 [==============================] - 7s 186us/step - loss: 0.1336 - acc: 0.9611 - val_loss: 0.1495 - val_acc: 0.9575\n"
     ]
    }
   ],
   "source": [
    "h = model.fit(X_train, y_train,\n",
    "              epochs=3,\n",
    "              batch_size=16,\n",
    "              verbose =1,\n",
    "              validation_split=0.33)"
   ]
  },
  {
   "cell_type": "markdown",
   "metadata": {},
   "source": [
    "### On peut alors évaluer le modèle sur l'ensemble de test"
   ]
  },
  {
   "cell_type": "code",
   "execution_count": 14,
   "metadata": {},
   "outputs": [
    {
     "name": "stdout",
     "output_type": "stream",
     "text": [
      "[0.13693056365009398, 0.9599]\n"
     ]
    }
   ],
   "source": [
    "score = model.evaluate(X_test, y_test, verbose=2, batch_size=16)\n",
    "\n",
    "print (score)"
   ]
  },
  {
   "cell_type": "markdown",
   "metadata": {},
   "source": [
    "### Les info sur le processus d'apprentissage sont stockées dans h\n",
    "Comme on va en avoir besoin plusieurs fois, on écrit une fonction qui prend un historique d'apprentissage et affiche les courbes : une pour la fonction de perte (loss) et l'autre pour le taux de réussite (accuracy) :"
   ]
  },
  {
   "cell_type": "code",
   "execution_count": 15,
   "metadata": {},
   "outputs": [],
   "source": [
    "def affiche_evolution_apprentissage(history):\n",
    "    #affiche history.history.keys()\n",
    "    plt.plot(history.history['acc'])\n",
    "    plt.plot(history.history['val_acc'])\n",
    "    plt.title('accuracy du modèle')\n",
    "    plt.ylabel('accuracy')\n",
    "    plt.xlabel('epoch')\n",
    "    plt.legend(['données apprentissage', 'données test'], loc='upper left')\n",
    "    plt.show()\n",
    "    # résumé de l'historique pour loss\n",
    "    plt.plot(history.history['loss'])\n",
    "    plt.plot(history.history['val_loss'])\n",
    "    plt.title('loss du modèle')\n",
    "    plt.ylabel('loss')\n",
    "    plt.xlabel('epoch')\n",
    "    plt.legend(['apprentissage', 'test'], loc='upper left')\n",
    "    plt.show()"
   ]
  },
  {
   "cell_type": "code",
   "execution_count": 16,
   "metadata": {},
   "outputs": [
    {
     "data": {
      "image/png": "[encoded data removed]",
      "text/plain": [
       "<Figure size 432x288 with 1 Axes>"
      ]
     },
     "metadata": {},
     "output_type": "display_data"
    },
    {
     "data": {
      "image/png": "[encoded data removed]",
      "text/plain": [
       "<Figure size 432x288 with 1 Axes>"
      ]
     },
     "metadata": {},
     "output_type": "display_data"
    }
   ],
   "source": [
    "affiche_evolution_apprentissage(h)"
   ]
  },
  {
   "cell_type": "markdown",
   "metadata": {},
   "source": [
    "### Callback\n",
    "Permet de programmer la sauvegarde des modèles à chaque itération, l'adaptation du pas d'apprentissage (learning rate), une procédure de early stopping, etc\n",
    "\n",
    "Voir <https://keras.io/callbacks/> pour les détails"
   ]
  },
  {
   "cell_type": "code",
   "execution_count": 19,
   "metadata": {
    "scrolled": true
   },
   "outputs": [
    {
     "name": "stdout",
     "output_type": "stream",
     "text": [
      "Train on 40199 samples, validate on 19801 samples\n",
      "Epoch 1/2\n",
      "40199/40199 [==============================] - 6s 147us/step - loss: 0.1108 - acc: 0.9682 - val_loss: 0.1369 - val_acc: 0.9622\n",
      "Epoch 2/2\n",
      "40199/40199 [==============================] - 7s 165us/step - loss: 0.0947 - acc: 0.9727 - val_loss: 0.1350 - val_acc: 0.9625\n"
     ]
    }
   ],
   "source": [
    "# Early Stopping\n",
    "from keras.callbacks import EarlyStopping\n",
    "es = EarlyStopping(monitor='val_loss', min_delta=0.00001, patience=10, verbose=1, mode='auto')\n",
    "\n",
    "# Adaptation du pas d'apprentissage\n",
    "from keras.callbacks import ReduceLROnPlateau\n",
    "lr = ReduceLROnPlateau(monitor='val_loss', factor=0.1, patience=2, verbose=0, mode='auto', \n",
    "                       min_delta=0.0001, cooldown=0, min_lr=0)\n",
    "\n",
    "h_es_lr = model.fit(X_train, y_train,\n",
    "                    epochs=2,\n",
    "                    batch_size=16,\n",
    "                    verbose =1,\n",
    "                    validation_split=0.33,\n",
    "                    callbacks=[es, lr])"
   ]
  },
  {
   "cell_type": "markdown",
   "metadata": {},
   "source": [
    "#### Tensorboard\n",
    "Si votre backend est tensorflow, vous pouvez utiliser le tensorboard"
   ]
  },
  {
   "cell_type": "markdown",
   "metadata": {},
   "source": [
    "Installer tensorboard : il est possible qu'il ait été installé en même temps que tensorflow. Dans le cas contraire, essayer : *pip install tensorboard*\n",
    "\n",
    "Lancer le tensorboard en linux (pas faisable directement dans un notebook) :\n",
    " - dans un terminal, créer un répertoire logs *mkdir logs* puis lancer *tensorboard --logdir='./logs' &*\n",
    " - ou : *python3 -m tensorboard.main --logdir='./logs' &*\n",
    "\n",
    "NB : Il est aussi possible de gérer le board directement dans le notebook, au prix de quelques installations : <https://github.com/lspvic/jupyter_tensorboard>\n",
    "\n",
    "On peut maintenant dire à Keras de l'utiliser :"
   ]
  },
  {
   "cell_type": "code",
   "execution_count": 23,
   "metadata": {},
   "outputs": [],
   "source": [
    "from keras.callbacks import TensorBoard\n",
    "tb = TensorBoard(log_dir='./logs', histogram_freq=0, batch_size=32, \n",
    "            write_graph=True, write_grads=False, write_images=False, \n",
    "            embeddings_freq=0, embeddings_layer_names=None, embeddings_metadata=None)"
   ]
  },
  {
   "cell_type": "markdown",
   "metadata": {},
   "source": [
    "Le board est visible en local à l'URL <http://0.0.0.0:6006/>\n",
    "\n",
    "Pour qu'il ait des données à visualiser, il faut réaliser un apprentissage : "
   ]
  },
  {
   "cell_type": "code",
   "execution_count": 24,
   "metadata": {},
   "outputs": [
    {
     "name": "stdout",
     "output_type": "stream",
     "text": [
      "Train on 40199 samples, validate on 19801 samples\n",
      "Epoch 1/3\n",
      "40199/40199 [==============================] - 6s 157us/step - loss: 0.0602 - acc: 0.9834 - val_loss: 0.1242 - val_acc: 0.9664\n",
      "Epoch 2/3\n",
      "40199/40199 [==============================] - 6s 140us/step - loss: 0.0542 - acc: 0.9851 - val_loss: 0.1319 - val_acc: 0.9641\n",
      "Epoch 3/3\n",
      "40199/40199 [==============================] - 7s 176us/step - loss: 0.0497 - acc: 0.9865 - val_loss: 0.1284 - val_acc: 0.9668\n"
     ]
    }
   ],
   "source": [
    "h_tb = model.fit(X_train, y_train,\n",
    "                    epochs=3,\n",
    "                    batch_size=16,\n",
    "                    verbose =1,\n",
    "                    validation_split=0.33,\n",
    "                    callbacks=[tb])"
   ]
  },
  {
   "cell_type": "markdown",
   "metadata": {},
   "source": [
    "## Sauver et récupérer des models"
   ]
  },
  {
   "cell_type": "code",
   "execution_count": 27,
   "metadata": {},
   "outputs": [
    {
     "name": "stdout",
     "output_type": "stream",
     "text": [
      "10000/10000 [==============================] - 1s 54us/step\n",
      "Initialement :  [0.1127415941866464, 0.9696]\n",
      "10000/10000 [==============================] - 0s 41us/step\n",
      "Après suppression-récupération :  [0.1127415941866464, 0.9696]\n",
      "<keras.engine.sequential.Sequential object at 0x7f352d70a9b0>\n"
     ]
    }
   ],
   "source": [
    "from keras.models import load_model\n",
    "\n",
    "# Eventuellement, installation d'un module nécessaire :\n",
    "#!pip3 install h5py\n",
    "\n",
    "score = model.evaluate(X_test, y_test, batch_size=16)\n",
    "print (\"Initialement : \", score)\n",
    "\n",
    "# Sauver le model \n",
    "model.save('mon_modele.h5')  # crée un fichier HDF5del model  \n",
    "\n",
    "# supprime le modèle\n",
    "del model\n",
    "\n",
    "# Récupérer le modèle   \n",
    "model = load_model('mon_modele.h5')\n",
    "\n",
    "score = model.evaluate(X_test, y_test, batch_size=16)\n",
    "print (\"Après suppression-récupération : \", score)\n",
    "print(model)"
   ]
  },
  {
   "cell_type": "markdown",
   "metadata": {},
   "source": [
    "## Utiliser Keras dans un code SciKit-learn (cross-validation / Grid search)\n",
    "\n",
    "Dans Scikit-Learn, il y a une classe *KerasClassifier* qu'il peut-être utile de savoir utiliser :"
   ]
  },
  {
   "cell_type": "code",
   "execution_count": 29,
   "metadata": {},
   "outputs": [
    {
     "name": "stdout",
     "output_type": "stream",
     "text": [
      "{'optimizer': ['adam', 'rmsprop'], 'init': ['glorot_uniform'], 'nb_hid1': [100], 'do_rate': [0, 0.5]}\n"
     ]
    },
    {
     "name": "stderr",
     "output_type": "stream",
     "text": [
      "/usr/local/lib/python3.6/dist-packages/sklearn/model_selection/_split.py:1943: FutureWarning: You should specify a value for 'cv' instead of relying on the default value. The default value will change from 3 to 5 in version 0.22.\n",
      "  warnings.warn(CV_WARNING, FutureWarning)\n"
     ]
    },
    {
     "name": "stdout",
     "output_type": "stream",
     "text": [
      "_________________________________________________________________\n",
      "Layer (type)                 Output Shape              Param #   \n",
      "=================================================================\n",
      "input_1 (InputLayer)         (None, 784)               0         \n",
      "_________________________________________________________________\n",
      "dense_4 (Dense)              (None, 64)                50240     \n",
      "_________________________________________________________________\n",
      "dense_5 (Dense)              (None, 64)                4160      \n",
      "_________________________________________________________________\n",
      "dense_6 (Dense)              (None, 10)                650       \n",
      "=================================================================\n",
      "Total params: 55,050\n",
      "Trainable params: 55,050\n",
      "Non-trainable params: 0\n",
      "_________________________________________________________________\n",
      "Epoch 1/2\n",
      " - 3s - loss: 0.3286 - acc: 0.9025\n",
      "Epoch 2/2\n",
      " - 2s - loss: 0.1498 - acc: 0.9559\n",
      "20000/20000 [==============================] - 1s 41us/step\n",
      "40000/40000 [==============================] - 1s 28us/step\n",
      "_________________________________________________________________\n",
      "Layer (type)                 Output Shape              Param #   \n",
      "=================================================================\n",
      "input_2 (InputLayer)         (None, 784)               0         \n",
      "_________________________________________________________________\n",
      "dense_7 (Dense)              (None, 64)                50240     \n",
      "_________________________________________________________________\n",
      "dense_8 (Dense)              (None, 64)                4160      \n",
      "_________________________________________________________________\n",
      "dense_9 (Dense)              (None, 10)                650       \n",
      "=================================================================\n",
      "Total params: 55,050\n",
      "Trainable params: 55,050\n",
      "Non-trainable params: 0\n",
      "_________________________________________________________________\n",
      "Epoch 1/2\n",
      " - 3s - loss: 0.3346 - acc: 0.9028\n",
      "Epoch 2/2\n",
      " - 5s - loss: 0.1525 - acc: 0.9546\n",
      "20000/20000 [==============================] - 1s 67us/step\n",
      "40000/40000 [==============================] - 1s 29us/step\n",
      "_________________________________________________________________\n",
      "Layer (type)                 Output Shape              Param #   \n",
      "=================================================================\n",
      "input_3 (InputLayer)         (None, 784)               0         \n",
      "_________________________________________________________________\n",
      "dense_10 (Dense)             (None, 64)                50240     \n",
      "_________________________________________________________________\n",
      "dense_11 (Dense)             (None, 64)                4160      \n",
      "_________________________________________________________________\n",
      "dense_12 (Dense)             (None, 10)                650       \n",
      "=================================================================\n",
      "Total params: 55,050\n",
      "Trainable params: 55,050\n",
      "Non-trainable params: 0\n",
      "_________________________________________________________________\n",
      "Epoch 1/2\n",
      " - 4s - loss: 0.3298 - acc: 0.9033\n",
      "Epoch 2/2\n",
      " - 4s - loss: 0.1464 - acc: 0.9569\n",
      "20000/20000 [==============================] - 1s 29us/step\n",
      "40000/40000 [==============================] - 2s 53us/step\n",
      "_________________________________________________________________\n",
      "Layer (type)                 Output Shape              Param #   \n",
      "=================================================================\n",
      "input_4 (InputLayer)         (None, 784)               0         \n",
      "_________________________________________________________________\n",
      "dense_13 (Dense)             (None, 64)                50240     \n",
      "_________________________________________________________________\n",
      "dense_14 (Dense)             (None, 64)                4160      \n",
      "_________________________________________________________________\n",
      "dense_15 (Dense)             (None, 10)                650       \n",
      "=================================================================\n",
      "Total params: 55,050\n",
      "Trainable params: 55,050\n",
      "Non-trainable params: 0\n",
      "_________________________________________________________________\n",
      "Epoch 1/2\n",
      " - 4s - loss: 0.3286 - acc: 0.9043\n",
      "Epoch 2/2\n",
      " - 3s - loss: 0.1590 - acc: 0.9525\n",
      "20000/20000 [==============================] - 1s 33us/step\n",
      "40000/40000 [==============================] - 1s 28us/step\n",
      "_________________________________________________________________\n",
      "Layer (type)                 Output Shape              Param #   \n",
      "=================================================================\n",
      "input_5 (InputLayer)         (None, 784)               0         \n",
      "_________________________________________________________________\n",
      "dense_16 (Dense)             (None, 64)                50240     \n",
      "_________________________________________________________________\n",
      "dense_17 (Dense)             (None, 64)                4160      \n",
      "_________________________________________________________________\n",
      "dense_18 (Dense)             (None, 10)                650       \n",
      "=================================================================\n",
      "Total params: 55,050\n",
      "Trainable params: 55,050\n",
      "Non-trainable params: 0\n",
      "_________________________________________________________________\n",
      "Epoch 1/2\n",
      " - 4s - loss: 0.3280 - acc: 0.9061\n",
      "Epoch 2/2\n",
      " - 3s - loss: 0.1553 - acc: 0.9542\n",
      "20000/20000 [==============================] - 1s 29us/step\n",
      "40000/40000 [==============================] - 1s 26us/step\n",
      "_________________________________________________________________\n",
      "Layer (type)                 Output Shape              Param #   \n",
      "=================================================================\n",
      "input_6 (InputLayer)         (None, 784)               0         \n",
      "_________________________________________________________________\n",
      "dense_19 (Dense)             (None, 64)                50240     \n",
      "_________________________________________________________________\n",
      "dense_20 (Dense)             (None, 64)                4160      \n",
      "_________________________________________________________________\n",
      "dense_21 (Dense)             (None, 10)                650       \n",
      "=================================================================\n",
      "Total params: 55,050\n",
      "Trainable params: 55,050\n",
      "Non-trainable params: 0\n",
      "_________________________________________________________________\n",
      "Epoch 1/2\n",
      " - 3s - loss: 0.3441 - acc: 0.9016\n",
      "Epoch 2/2\n",
      " - 3s - loss: 0.1654 - acc: 0.9503\n",
      "20000/20000 [==============================] - 1s 34us/step\n",
      "40000/40000 [==============================] - 2s 42us/step\n",
      "_________________________________________________________________\n",
      "Layer (type)                 Output Shape              Param #   \n",
      "=================================================================\n",
      "input_7 (InputLayer)         (None, 784)               0         \n",
      "_________________________________________________________________\n",
      "dense_22 (Dense)             (None, 64)                50240     \n",
      "_________________________________________________________________\n",
      "dense_23 (Dense)             (None, 64)                4160      \n",
      "_________________________________________________________________\n",
      "dense_24 (Dense)             (None, 10)                650       \n",
      "=================================================================\n",
      "Total params: 55,050\n",
      "Trainable params: 55,050\n",
      "Non-trainable params: 0\n",
      "_________________________________________________________________\n",
      "Epoch 1/2\n",
      " - 4s - loss: 0.3378 - acc: 0.9032\n",
      "Epoch 2/2\n",
      " - 4s - loss: 0.1501 - acc: 0.9556\n",
      "20000/20000 [==============================] - 1s 36us/step\n",
      "40000/40000 [==============================] - 1s 30us/step\n",
      "_________________________________________________________________\n",
      "Layer (type)                 Output Shape              Param #   \n",
      "=================================================================\n",
      "input_8 (InputLayer)         (None, 784)               0         \n",
      "_________________________________________________________________\n",
      "dense_25 (Dense)             (None, 64)                50240     \n",
      "_________________________________________________________________\n",
      "dense_26 (Dense)             (None, 64)                4160      \n",
      "_________________________________________________________________\n",
      "dense_27 (Dense)             (None, 10)                650       \n",
      "=================================================================\n",
      "Total params: 55,050\n",
      "Trainable params: 55,050\n",
      "Non-trainable params: 0\n",
      "_________________________________________________________________\n"
     ]
    },
    {
     "name": "stdout",
     "output_type": "stream",
     "text": [
      "Epoch 1/2\n",
      " - 3s - loss: 0.3201 - acc: 0.9072\n",
      "Epoch 2/2\n",
      " - 5s - loss: 0.1454 - acc: 0.9559\n",
      "20000/20000 [==============================] - 1s 62us/step\n",
      "40000/40000 [==============================] - 2s 53us/step\n",
      "_________________________________________________________________\n",
      "Layer (type)                 Output Shape              Param #   \n",
      "=================================================================\n",
      "input_9 (InputLayer)         (None, 784)               0         \n",
      "_________________________________________________________________\n",
      "dense_28 (Dense)             (None, 64)                50240     \n",
      "_________________________________________________________________\n",
      "dense_29 (Dense)             (None, 64)                4160      \n",
      "_________________________________________________________________\n",
      "dense_30 (Dense)             (None, 10)                650       \n",
      "=================================================================\n",
      "Total params: 55,050\n",
      "Trainable params: 55,050\n",
      "Non-trainable params: 0\n",
      "_________________________________________________________________\n",
      "Epoch 1/2\n",
      " - 4s - loss: 0.3363 - acc: 0.9012\n",
      "Epoch 2/2\n",
      " - 3s - loss: 0.1474 - acc: 0.9562\n",
      "20000/20000 [==============================] - 1s 67us/step\n",
      "40000/40000 [==============================] - 2s 45us/step\n",
      "_________________________________________________________________\n",
      "Layer (type)                 Output Shape              Param #   \n",
      "=================================================================\n",
      "input_10 (InputLayer)        (None, 784)               0         \n",
      "_________________________________________________________________\n",
      "dense_31 (Dense)             (None, 64)                50240     \n",
      "_________________________________________________________________\n",
      "dense_32 (Dense)             (None, 64)                4160      \n",
      "_________________________________________________________________\n",
      "dense_33 (Dense)             (None, 10)                650       \n",
      "=================================================================\n",
      "Total params: 55,050\n",
      "Trainable params: 55,050\n",
      "Non-trainable params: 0\n",
      "_________________________________________________________________\n",
      "Epoch 1/2\n",
      " - 3s - loss: 0.3228 - acc: 0.9045\n",
      "Epoch 2/2\n",
      " - 4s - loss: 0.1555 - acc: 0.9544\n",
      "20000/20000 [==============================] - 1s 74us/step\n",
      "40000/40000 [==============================] - 2s 56us/step\n",
      "_________________________________________________________________\n",
      "Layer (type)                 Output Shape              Param #   \n",
      "=================================================================\n",
      "input_11 (InputLayer)        (None, 784)               0         \n",
      "_________________________________________________________________\n",
      "dense_34 (Dense)             (None, 64)                50240     \n",
      "_________________________________________________________________\n",
      "dense_35 (Dense)             (None, 64)                4160      \n",
      "_________________________________________________________________\n",
      "dense_36 (Dense)             (None, 10)                650       \n",
      "=================================================================\n",
      "Total params: 55,050\n",
      "Trainable params: 55,050\n",
      "Non-trainable params: 0\n",
      "_________________________________________________________________\n",
      "Epoch 1/2\n",
      " - 4s - loss: 0.3184 - acc: 0.9096\n",
      "Epoch 2/2\n",
      " - 3s - loss: 0.1544 - acc: 0.9547\n",
      "20000/20000 [==============================] - 1s 61us/step\n",
      "40000/40000 [==============================] - 1s 36us/step\n",
      "_________________________________________________________________\n",
      "Layer (type)                 Output Shape              Param #   \n",
      "=================================================================\n",
      "input_12 (InputLayer)        (None, 784)               0         \n",
      "_________________________________________________________________\n",
      "dense_37 (Dense)             (None, 64)                50240     \n",
      "_________________________________________________________________\n",
      "dense_38 (Dense)             (None, 64)                4160      \n",
      "_________________________________________________________________\n",
      "dense_39 (Dense)             (None, 10)                650       \n",
      "=================================================================\n",
      "Total params: 55,050\n",
      "Trainable params: 55,050\n",
      "Non-trainable params: 0\n",
      "_________________________________________________________________\n",
      "Epoch 1/2\n",
      " - 4s - loss: 0.3353 - acc: 0.9037\n",
      "Epoch 2/2\n",
      " - 3s - loss: 0.1576 - acc: 0.9525\n",
      "20000/20000 [==============================] - 1s 73us/step\n",
      "40000/40000 [==============================] - 2s 53us/step\n",
      "_________________________________________________________________\n",
      "Layer (type)                 Output Shape              Param #   \n",
      "=================================================================\n",
      "input_13 (InputLayer)        (None, 784)               0         \n",
      "_________________________________________________________________\n",
      "dense_40 (Dense)             (None, 64)                50240     \n",
      "_________________________________________________________________\n",
      "dense_41 (Dense)             (None, 64)                4160      \n",
      "_________________________________________________________________\n",
      "dense_42 (Dense)             (None, 10)                650       \n",
      "=================================================================\n",
      "Total params: 55,050\n",
      "Trainable params: 55,050\n",
      "Non-trainable params: 0\n",
      "_________________________________________________________________\n",
      "Epoch 1/2\n",
      " - 9s - loss: 0.2895 - acc: 0.9152\n",
      "Epoch 2/2\n",
      " - 5s - loss: 0.1296 - acc: 0.9605\n",
      "-----------------------------\n",
      "Best: 0.956283 using {'do_rate': 0.5, 'init': 'glorot_uniform', 'nb_hid1': 100, 'optimizer': 'adam'}\n",
      "-----------------------------\n",
      "0.956000 (0.003969) with: {'do_rate': 0, 'init': 'glorot_uniform', 'nb_hid1': 100, 'optimizer': 'adam'}\n",
      "0.953983 (0.002683) with: {'do_rate': 0, 'init': 'glorot_uniform', 'nb_hid1': 100, 'optimizer': 'rmsprop'}\n",
      "0.956283 (0.001996) with: {'do_rate': 0.5, 'init': 'glorot_uniform', 'nb_hid1': 100, 'optimizer': 'adam'}\n",
      "0.954717 (0.002287) with: {'do_rate': 0.5, 'init': 'glorot_uniform', 'nb_hid1': 100, 'optimizer': 'rmsprop'}\n"
     ]
    }
   ],
   "source": [
    "from keras.models import Sequential\n",
    "from keras.layers.core import Dense, Dropout, Activation\n",
    "from keras.optimizers import SGD, Adam, RMSprop\n",
    "\n",
    "from keras.wrappers.scikit_learn import KerasClassifier\n",
    "from sklearn.model_selection import GridSearchCV\n",
    "\n",
    "def create_model_Mnist(optimizer='rmsprop', input_datadim = 784, init='glorot_uniform', nb_hid1= 20, do_rate= 0.5 ):\n",
    "    # fonction créant un modèle pour MNIST\n",
    "    \"\"\"\n",
    "    #Jusqu'à présent :\n",
    "    m = Sequential()\n",
    "    m.add(Dense(nb_hid1, input_dim=input_datadim, activation='relu'))\n",
    "    m.add(Dropout(do_rate))\n",
    "    m.add(Dense(64, activation='relu'))\n",
    "    m.add(Dropout(do_rate))\n",
    "    m.add(Dense(10, activation='softmax'))\n",
    "    \"\"\"\n",
    "    # De façon équivalente :\n",
    "    entree= Input(shape=(784,))\n",
    "    cachee_1= Dense(64, activation='relu')(entree)\n",
    "    cachee_2 = Dense(64, activation='relu')(cachee_1)\n",
    "    sortie = Dense(10, activation=\"softmax\")(cachee_2)\n",
    "    m = Model(entree, sortie)\n",
    "    \n",
    "    m.compile(loss='categorical_crossentropy',\n",
    "              optimizer=optimizer,\n",
    "              metrics=['accuracy'])\n",
    "    m.summary()\n",
    "    return m\n",
    "\n",
    "model = KerasClassifier(build_fn=create_model_Mnist)\n",
    "\n",
    "# valeurs des différents paramètres\n",
    "optimizers = ['adam', 'rmsprop']\n",
    "init = ['glorot_uniform']\n",
    "V_nb_hid1 = [100]\n",
    "DO_rate=[0, 0.5]\n",
    "\n",
    "epochs = 2\n",
    "\n",
    "param_grid = dict(optimizer=optimizers, init=init,  nb_hid1=V_nb_hid1, do_rate= DO_rate)\n",
    "\n",
    "print(param_grid)\n",
    "\n",
    "grid = GridSearchCV(estimator=model, param_grid=param_grid, cv=3)\n",
    "grid_result = grid.fit(X_train, y_train, epochs = epochs, verbose=2)\n",
    "\n",
    "# Résumé des résultats\n",
    "print(\"-----------------------------\")\n",
    "print(\"Best: %f using %s\" % (grid_result.best_score_, grid_result.best_params_))\n",
    "\n",
    "print(\"-----------------------------\")\n",
    "means = grid_result.cv_results_['mean_test_score']\n",
    "stds = grid_result.cv_results_['std_test_score']\n",
    "params = grid_result.cv_results_['params']\n",
    "for mean, stdev, param in zip(means, stds, params):\n",
    "    print(\"%f (%f) with: %r\" % (mean, stdev, param))"
   ]
  },
  {
   "cell_type": "markdown",
   "metadata": {},
   "source": [
    "### Récupération des vecteurs d'activation d'une couche\n",
    "Une fois un réseau appris, on peut avoir besoin des vecteurs de sortie d'une couche cachée. Avec Keras, il suffit de créer un nouveau modèle qui ne contient que le début du réseau jusqu'à la couche dont on veut accéder aux sorties."
   ]
  },
  {
   "cell_type": "code",
   "execution_count": 31,
   "metadata": {},
   "outputs": [
    {
     "name": "stdout",
     "output_type": "stream",
     "text": [
      "Train on 40199 samples, validate on 19801 samples\n",
      "Epoch 1/2\n",
      "40199/40199 [==============================] - 10s 241us/step - loss: 0.2913 - acc: 0.9141 - val_loss: 0.1645 - val_acc: 0.9499\n",
      "Epoch 2/2\n",
      "40199/40199 [==============================] - 11s 264us/step - loss: 0.1348 - acc: 0.9582 - val_loss: 0.1417 - val_acc: 0.9560\n"
     ]
    },
    {
     "data": {
      "text/plain": [
       "<keras.callbacks.History at 0x7f352cbaec18>"
      ]
     },
     "execution_count": 31,
     "metadata": {},
     "output_type": "execute_result"
    }
   ],
   "source": [
    "#réseau complet\n",
    "entree= Input(shape=(784,))\n",
    "cachee_1= Dense(64, activation='relu')(entree)\n",
    "cachee_2 = Dense(64, activation='relu')(cachee_1)\n",
    "sortie = Dense(10, activation=\"softmax\")(cachee_2)\n",
    "m = Model(entree, sortie)\n",
    "\n",
    "#apprentissage\n",
    "m.compile(loss='categorical_crossentropy',\n",
    "              optimizer='adam',\n",
    "              metrics=['accuracy'])\n",
    "m.fit(X_train, y_train, epochs=2, batch_size=16, verbose =1, validation_split=0.33)"
   ]
  },
  {
   "cell_type": "code",
   "execution_count": 32,
   "metadata": {},
   "outputs": [
    {
     "name": "stdout",
     "output_type": "stream",
     "text": [
      "(10000, 64)\n"
     ]
    }
   ],
   "source": [
    "#réseau partiel\n",
    "m2 = Model(entree,cachee_1)\n",
    "\n",
    "#On aurait aussi pu faire :\n",
    "# m2 = Sequential()\n",
    "# m2.add(Dense(64,input_dim=784, activation='relu', weights=m.layers[0].get_weights()))\n",
    "\n",
    "#récupération d'une matrice d'activation :\n",
    "#chaque ligne est le vecteur de sortie de la dernière couche de m2 pour la donnée correspondante\n",
    "activite = m2.predict(X_test)\n",
    "print(activite.shape)"
   ]
  },
  {
   "cell_type": "markdown",
   "metadata": {},
   "source": [
    "# A faire\n",
    "Choisissez l'une de ces possibilités et réalisez la avec panache et déterminisation !\n",
    "\n",
    "## Possibilité 1 : utiliser un réseau pour obtenir une autre représentation des données\n",
    "- Apprendre un auto-encoder pour transformer les données \n",
    "- Utiliser un classifieur standard (SVM, k-ppv, etc.) sur les données transformées\n",
    "\n",
    "Tutoriel auto-encoder en Keras : https://blog.keras.io/building-autoencoders-in-keras.html\n",
    "\n",
    "## Possibilité 2 : Augmenter le nombre de données\n",
    "- en bruitant les données\n",
    "- en faisant de petites modifications des données\n",
    "- d'autres idées par ici : http://leon.bottou.org/projects/infimnist\n",
    "Puis réapprenez le réseau.\n",
    "\n",
    "## Possibilité 3 : Inverser les données et les classes\n",
    "L'idée ici est d'apprendre un réseau de neurones qui à partir d'un chiffre donné en entrée génère une image 28x28 de ce chiffre en manuscrit. Le nombre d'itérations nécessaires sera forcément plus élevé.\n",
    "\n",
    "## Possibilité 4 : Fashion-MNIST\n",
    "Apprendre un réseau de neuronnes réalisant la classification 10 classes sur les données de l'entreprise de fringues Zalando : https://github.com/zalandoresearch/fashion-mnist \n",
    "\n",
    "## Possibilité 5 : Autre architecture de réseau\n",
    "L'architecture que nous avons utilisé est trop simple : 3 couches denses et c'est tout. L'idée ici est de prendre un résau plus complexe, avec des couches de convolution, du pooling, du dropout. L'utilisation de la partie fonctionnelle de Keras semble obligatoire (https://keras.io/getting-started/functional-api-guide/)"
   ]
  },
  {
   "cell_type": "code",
   "execution_count": null,
   "metadata": {},
   "outputs": [],
   "source": []
  }
 ],
 "metadata": {
  "kernelspec": {
   "display_name": "Python 3",
   "language": "python",
   "name": "python3"
  },
  "language_info": {
   "codemirror_mode": {
    "name": "ipython",
    "version": 3
   },
   "file_extension": ".py",
   "mimetype": "text/x-python",
   "name": "python",
   "nbconvert_exporter": "python",
   "pygments_lexer": "ipython3",
   "version": "3.6.5"
  }
 },
 "nbformat": 4,
 "nbformat_minor": 2
}
